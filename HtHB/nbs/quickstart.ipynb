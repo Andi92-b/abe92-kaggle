{
 "cells": [
  {
   "cell_type": "code",
   "execution_count": 37,
   "id": "636d1c41-4f3c-4edd-8bbf-2a18ab533bf1",
   "metadata": {},
   "outputs": [],
   "source": [
    "import pathlib\n",
    "import pandas as pd\n",
    "\n",
    "import sys\n",
    "# sys.path.append(\"/home/aberzl/dev/abe92-kaggle/HtHB/src\")\n",
    "from data import *"
   ]
  },
  {
   "cell_type": "code",
   "execution_count": 29,
   "id": "da236a78-208c-44a3-9655-8037fe10aa0d",
   "metadata": {},
   "outputs": [],
   "source": [
    "sys.path.remove(\"/home/aberzl/dev/abe92-kaggle/HtHB/src\")"
   ]
  },
  {
   "cell_type": "code",
   "execution_count": 31,
   "id": "d151a712-9c43-4c03-bf58-da8ed8a0ec1f",
   "metadata": {},
   "outputs": [],
   "source": [
    "sys.path.remove(\"\")"
   ]
  },
  {
   "cell_type": "code",
   "execution_count": 36,
   "id": "3b830687-ac6c-4540-8593-32b4f339a7ae",
   "metadata": {},
   "outputs": [
    {
     "data": {
      "text/plain": [
       "['/home/aberzl/dev/abe92-kaggle/HtHB/nbs',\n",
       " '/home/aberzl/mambaforge/lib/python39.zip',\n",
       " '/home/aberzl/mambaforge/lib/python3.9',\n",
       " '/home/aberzl/mambaforge/lib/python3.9/lib-dynload',\n",
       " '/home/aberzl/mambaforge/lib/python3.9/site-packages']"
      ]
     },
     "execution_count": 36,
     "metadata": {},
     "output_type": "execute_result"
    }
   ],
   "source": [
    "sys.path"
   ]
  },
  {
   "cell_type": "code",
   "execution_count": 3,
   "id": "4d8bada6-1f68-4ac1-9a85-d56747d99bb2",
   "metadata": {},
   "outputs": [],
   "source": [
    "GDRIVE = pathlib.Path(r'/mnt/g/My Drive/Dev/datasets')"
   ]
  },
  {
   "cell_type": "code",
   "execution_count": 6,
   "id": "c5743a24-a80d-4e2d-b20b-ecbe5c1ff652",
   "metadata": {},
   "outputs": [
    {
     "data": {
      "text/plain": [
       "[PosixPath('/mnt/g/My Drive/Dev/datasets/sample_submission.csv')]"
      ]
     },
     "execution_count": 6,
     "metadata": {},
     "output_type": "execute_result"
    }
   ],
   "source": [
    "list(GDRIVE.iterdir())"
   ]
  },
  {
   "cell_type": "code",
   "execution_count": 38,
   "id": "4178ccc9-9600-4e67-b32f-dbc8fcb20a35",
   "metadata": {},
   "outputs": [
    {
     "data": {
      "text/plain": [
       "'/mnt/g/My Drive/Dev/datasets'"
      ]
     },
     "execution_count": 38,
     "metadata": {},
     "output_type": "execute_result"
    }
   ],
   "source": [
    "get_data_path('local')"
   ]
  },
  {
   "cell_type": "code",
   "execution_count": 17,
   "id": "78e7fb6d-f434-4977-8d52-ce4f67783b59",
   "metadata": {},
   "outputs": [],
   "source": [
    "sample_sub = pd.read_csv(str(GDRIVE / 'sample_submission.csv'))"
   ]
  },
  {
   "cell_type": "code",
   "execution_count": 18,
   "id": "48cee920-8e33-48b1-88e7-f3712bc4d294",
   "metadata": {},
   "outputs": [
    {
     "data": {
      "text/html": [
       "<div>\n",
       "<style scoped>\n",
       "    .dataframe tbody tr th:only-of-type {\n",
       "        vertical-align: middle;\n",
       "    }\n",
       "\n",
       "    .dataframe tbody tr th {\n",
       "        vertical-align: top;\n",
       "    }\n",
       "\n",
       "    .dataframe thead th {\n",
       "        text-align: right;\n",
       "    }\n",
       "</style>\n",
       "<table border=\"1\" class=\"dataframe\">\n",
       "  <thead>\n",
       "    <tr style=\"text-align: right;\">\n",
       "      <th></th>\n",
       "      <th>id</th>\n",
       "      <th>rle</th>\n",
       "    </tr>\n",
       "  </thead>\n",
       "  <tbody>\n",
       "    <tr>\n",
       "      <th>0</th>\n",
       "      <td>10078</td>\n",
       "      <td>12 34</td>\n",
       "    </tr>\n",
       "  </tbody>\n",
       "</table>\n",
       "</div>"
      ],
      "text/plain": [
       "      id    rle\n",
       "0  10078  12 34"
      ]
     },
     "execution_count": 18,
     "metadata": {},
     "output_type": "execute_result"
    }
   ],
   "source": [
    "sample_sub"
   ]
  }
 ],
 "metadata": {
  "kernelspec": {
   "display_name": "Python 3 (ipykernel)",
   "language": "python",
   "name": "python3"
  },
  "language_info": {
   "codemirror_mode": {
    "name": "ipython",
    "version": 3
   },
   "file_extension": ".py",
   "mimetype": "text/x-python",
   "name": "python",
   "nbconvert_exporter": "python",
   "pygments_lexer": "ipython3",
   "version": "3.9.13"
  }
 },
 "nbformat": 4,
 "nbformat_minor": 5
}
